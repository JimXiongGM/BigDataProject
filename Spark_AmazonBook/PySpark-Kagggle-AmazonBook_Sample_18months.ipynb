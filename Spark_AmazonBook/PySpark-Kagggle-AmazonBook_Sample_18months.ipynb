{
 "cells": [
  {
   "cell_type": "code",
   "execution_count": 1,
   "metadata": {},
   "outputs": [],
   "source": [
    "try:\n",
    "    sc.stop()\n",
    "except:\n",
    "    pass\n",
    "#---------------------------#\n",
    "from pyspark.sql import SparkSession\n",
    "\n",
    "spark = SparkSession\\\n",
    "    .builder \\\n",
    "    .master('spark://master:7077') \\\n",
    "    .appName('PySpark-Kagggle-AmazonBook_Sample_18months') \\\n",
    "    .getOrCreate()"
   ]
  },
  {
   "cell_type": "code",
   "execution_count": 2,
   "metadata": {},
   "outputs": [
    {
     "name": "stdout",
     "output_type": "stream",
     "text": [
      "root\n",
      " |-- ASIN: string (nullable = true)\n",
      " |-- GROUP: string (nullable = true)\n",
      " |-- FORMAT: string (nullable = true)\n",
      " |-- TITLE: string (nullable = true)\n",
      " |-- AUTHOR: string (nullable = true)\n",
      " |-- PUBLISHER: string (nullable = true)\n",
      "\n"
     ]
    }
   ],
   "source": [
    "csvfilePath=\"hdfs://master:9000/Data_Sample/Sample_1000_amazon-sales-rank-data-for-print-and-kindle-books/amazon_com_extras.csv\"\n",
    "\n",
    "csvDF = spark.read.format('com.databricks.spark.csv').options(header='true', inferschema='true').load(csvfilePath).cache()\n",
    "\n",
    "csvDF.printSchema()"
   ]
  },
  {
   "cell_type": "code",
   "execution_count": 3,
   "metadata": {},
   "outputs": [],
   "source": [
    "HadoopOutPath1 = \"hdfs://master:9000/xgm/output/KaggleAmazon_18months02/part-00000\""
   ]
  },
  {
   "cell_type": "code",
   "execution_count": 4,
   "metadata": {},
   "outputs": [],
   "source": [
    "Out_18m_DF1 = spark.read.options(header='false', inferschema='true',delimiter='\\t').csv(HadoopOutPath1)\\\n",
    "    .toDF(\"ASIN\",\"month_201701\",\"month_201702\",\"month_201703\",\"month_201704\",\"month_201705\",\"month_201706\",\\\n",
    "         \"month_201707\",\"month_201708\",\"month_201709\",\"month_201710\",\"month_201711\",\"month_201712\",\\\n",
    "         \"month_201801\",\"month_201802\",\"month_201803\",\"month_201804\",\"month_201805\",\"month_201806\",\\\n",
    "         )\\\n",
    "    .cache()"
   ]
  },
  {
   "cell_type": "code",
   "execution_count": 5,
   "metadata": {},
   "outputs": [],
   "source": [
    "join_DF1 = csvDF.join(Out_18m_DF1,csvDF.ASIN == Out_18m_DF1.ASIN).drop(Out_18m_DF1.ASIN)"
   ]
  },
  {
   "cell_type": "code",
   "execution_count": 6,
   "metadata": {},
   "outputs": [
    {
     "name": "stdout",
     "output_type": "stream",
     "text": [
      "+----------+-----+---------+--------------------+--------------------+--------------------+------------+------------+------------+------------+------------+------------+------------+------------+------------+------------+------------+------------+------------+------------+------------+------------+------------+------------+\n",
      "|      ASIN|GROUP|   FORMAT|               TITLE|              AUTHOR|           PUBLISHER|month_201701|month_201702|month_201703|month_201704|month_201705|month_201706|month_201707|month_201708|month_201709|month_201710|month_201711|month_201712|month_201801|month_201802|month_201803|month_201804|month_201805|month_201806|\n",
      "+----------+-----+---------+--------------------+--------------------+--------------------+------------+------------+------------+------------+------------+------------+------------+------------+------------+------------+------------+------------+------------+------------+------------+------------+------------+------------+\n",
      "|022640014X| book|hardcover|The Diversity Bar...|  Natasha K. Warikoo|University Of Chi...|           0|           0|           0|           0|           0|           0|           0|      322631|      290574|      349108|       49835|       20035|       51433|       62393|       37504|       46878|      105097|       50248|\n",
      "|022640708X| book|hardcover|Seven Ways of Loo...|     Scott Samuelson|University Of Chi...|           0|           0|     1150821|     3528823|     7062623|     1880585|     2682076|      876017|     1432806|      374166|      103894|       60289|      215297|      252277|      233157|      305867|      314156|      346873|\n",
      "|022655645X| book|hardcover|The Human Body in...|Stefanos Geroulan...|University Of Chi...|           0|           0|           0|           0|           0|           0|           0|           0|           0|           0|           0|           0|           0|           0|           0|           0|     1905751|     4802423|\n",
      "|022643303X| book|hardcover|Canine Confidenti...|         Marc Bekoff|University Of Chi...|           0|           0|           0|           0|           0|           0|           0|           0|           0|           0|           0|           0|           0|      690902|      705953|      153877|      135847|      323619|\n",
      "|022618871X| book|hardcover|Plankton: Wonders...|    Christian Sardet|University Of Chi...|      501370|      243062|      528478|      326636|      398402|      322056|      404878|      630135|      570180|      534869|      584876|      501117|      553872|      718341|      583845|      591221|      566665|      751282|\n",
      "|022631362X| book|hardcover|The Secret Lives ...|           Anonymous|University Of Chi...|           0|           0|           0|           0|           0|           0|           0|           0|           0|           0|           0|           0|           0|           0|           0|       50499|      185358|      370714|\n",
      "|022640871X| book|hardcover|The Testing Chara...|       Daniel Koretz|University Of Chi...|     1215340|     1502119|      617849|     1284382|      829946|      880188|     1089781|     1490173|      837641|      637222|      839917|     1272322|      475259|      836983|      916245|      680732|      597389|     1365043|\n",
      "+----------+-----+---------+--------------------+--------------------+--------------------+------------+------------+------------+------------+------------+------------+------------+------------+------------+------------+------------+------------+------------+------------+------------+------------+------------+------------+\n",
      "only showing top 7 rows\n",
      "\n"
     ]
    }
   ],
   "source": [
    "join_DF1.show(7)"
   ]
  },
  {
   "cell_type": "code",
   "execution_count": 7,
   "metadata": {},
   "outputs": [
    {
     "name": "stdout",
     "output_type": "stream",
     "text": [
      "+--------------------+-----+\n",
      "|              FORMAT|count|\n",
      "+--------------------+-----+\n",
      "|      kindle edition|    3|\n",
      "|           paperback|  581|\n",
      "|           hardcover|  367|\n",
      "|mass market paper...|   12|\n",
      "+--------------------+-----+\n",
      "\n"
     ]
    }
   ],
   "source": [
    "join_DF1.groupBy(\"FORMAT\").count().show()"
   ]
  },
  {
   "cell_type": "code",
   "execution_count": 8,
   "metadata": {},
   "outputs": [
    {
     "name": "stdout",
     "output_type": "stream",
     "text": [
      "[Row(FORMAT='kindle edition', count=3), Row(FORMAT='paperback', count=581), Row(FORMAT='hardcover', count=367), Row(FORMAT='mass market paperback', count=12)]\n"
     ]
    }
   ],
   "source": [
    "print (join_DF1.groupBy(\"FORMAT\").count().collect())"
   ]
  },
  {
   "cell_type": "markdown",
   "metadata": {},
   "source": [
    "## 以下是2018年6月各种前5名统计"
   ]
  },
  {
   "cell_type": "code",
   "execution_count": 9,
   "metadata": {},
   "outputs": [
    {
     "name": "stdout",
     "output_type": "stream",
     "text": [
      "+------+--------------------+------------+\n",
      "| GROUP|               TITLE|month_201806|\n",
      "+------+--------------------+------------+\n",
      "|kindle|         The Teacher|     1517717|\n",
      "|kindle|   Our Little Secret|      984472|\n",
      "|kindle|Romance: Interrac...|      568478|\n",
      "+------+--------------------+------------+\n",
      "\n"
     ]
    }
   ],
   "source": [
    "join_DF1.select(\"GROUP\",\"TITLE\",\"month_201806\").filter(\"FORMAT = 'kindle edition'\").sort(\"month_201806\",ascending=False).show(5)"
   ]
  },
  {
   "cell_type": "code",
   "execution_count": 10,
   "metadata": {},
   "outputs": [
    {
     "name": "stdout",
     "output_type": "stream",
     "text": [
      "+-----+--------------------+------------+\n",
      "|GROUP|               TITLE|month_201806|\n",
      "+-----+--------------------+------------+\n",
      "| book|We're British, In...|    16512689|\n",
      "| book|Dinner with a Vam...|    15163390|\n",
      "| book|Small Wars Permit...|    14408970|\n",
      "| book|   501st (Star Wars)|    13897247|\n",
      "| book|Game of Thrones (...|    12361751|\n",
      "+-----+--------------------+------------+\n",
      "only showing top 5 rows\n",
      "\n"
     ]
    }
   ],
   "source": [
    "join_DF1.select(\"GROUP\",\"TITLE\",\"month_201806\").filter(\"FORMAT = 'paperback'\").sort(\"month_201806\",ascending=False).show(5)"
   ]
  },
  {
   "cell_type": "code",
   "execution_count": 11,
   "metadata": {},
   "outputs": [
    {
     "name": "stdout",
     "output_type": "stream",
     "text": [
      "+-----+--------------------+------------+\n",
      "|GROUP|               TITLE|month_201806|\n",
      "+-----+--------------------+------------+\n",
      "| book|Interpreting Quan...|    12411651|\n",
      "| book|Stirring Slowly: ...|    11193687|\n",
      "| book|No Cheering In th...|     9862890|\n",
      "| book|The Mayfair Myste...|     8862649|\n",
      "| book|Beyond Weird: Why...|     8726490|\n",
      "+-----+--------------------+------------+\n",
      "only showing top 5 rows\n",
      "\n"
     ]
    }
   ],
   "source": [
    "join_DF1.select(\"GROUP\",\"TITLE\",\"month_201806\").filter(\"FORMAT = 'hardcover'\").sort(\"month_201806\",ascending=False).show(5)"
   ]
  },
  {
   "cell_type": "code",
   "execution_count": 12,
   "metadata": {},
   "outputs": [
    {
     "name": "stdout",
     "output_type": "stream",
     "text": [
      "+-----+--------------------+--------------------+------------+\n",
      "|GROUP|               TITLE|              FORMAT|month_201806|\n",
      "+-----+--------------------+--------------------+------------+\n",
      "| book|Flowers for Algernon|mass market paper...|      296553|\n",
      "| book| The Rogue Retrieval|mass market paper...|      151668|\n",
      "| book|       The Outsiders|mass market paper...|      135661|\n",
      "| book|The Magicians' Gu...|mass market paper...|      120697|\n",
      "| book|Patrick: Son of I...|mass market paper...|       45999|\n",
      "+-----+--------------------+--------------------+------------+\n",
      "only showing top 5 rows\n",
      "\n"
     ]
    }
   ],
   "source": [
    "join_DF1.select(\"GROUP\",\"TITLE\",\"FORMAT\",\"month_201806\").filter(\"FORMAT = 'mass market paperback'\").sort(\"month_201806\",ascending=False).show(5)"
   ]
  },
  {
   "cell_type": "code",
   "execution_count": null,
   "metadata": {},
   "outputs": [],
   "source": []
  }
 ],
 "metadata": {
  "kernelspec": {
   "display_name": "Python 3",
   "language": "python",
   "name": "python3"
  },
  "language_info": {
   "codemirror_mode": {
    "name": "ipython",
    "version": 3
   },
   "file_extension": ".py",
   "mimetype": "text/x-python",
   "name": "python",
   "nbconvert_exporter": "python",
   "pygments_lexer": "ipython3",
   "version": "3.7.1"
  }
 },
 "nbformat": 4,
 "nbformat_minor": 2
}
