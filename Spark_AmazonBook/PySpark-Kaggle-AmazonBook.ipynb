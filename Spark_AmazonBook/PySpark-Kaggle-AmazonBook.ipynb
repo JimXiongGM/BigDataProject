{
 "cells": [
  {
   "cell_type": "code",
   "execution_count": 1,
   "metadata": {},
   "outputs": [],
   "source": [
    "try:\n",
    "    sc.stop()\n",
    "except:\n",
    "    pass\n",
    "#---------------------------#\n",
    "from pyspark.sql import SparkSession\n",
    "\n",
    "spark = SparkSession\\\n",
    "    .builder \\\n",
    "    .master('spark://master:7077') \\\n",
    "    .appName('PySpark-Kagggle-AmazonBook') \\\n",
    "    .getOrCreate()"
   ]
  },
  {
   "cell_type": "code",
   "execution_count": 2,
   "metadata": {},
   "outputs": [
    {
     "name": "stdout",
     "output_type": "stream",
     "text": [
      "root\n",
      " |-- ASIN: string (nullable = true)\n",
      " |-- GROUP: string (nullable = true)\n",
      " |-- FORMAT: string (nullable = true)\n",
      " |-- TITLE: string (nullable = true)\n",
      " |-- AUTHOR: string (nullable = true)\n",
      " |-- PUBLISHER: string (nullable = true)\n",
      "\n"
     ]
    }
   ],
   "source": [
    "csvfilePath=\"hdfs://master:9000/Data_Sample/Sample_1000_amazon-sales-rank-data-for-print-and-kindle-books/amazon_com_extras.csv\"\n",
    "\n",
    "csvDF = spark.read.format('com.databricks.spark.csv').options(header='true', inferschema='true').load(csvfilePath).cache()\n",
    "\n",
    "csvDF.printSchema()"
   ]
  },
  {
   "cell_type": "code",
   "execution_count": 3,
   "metadata": {},
   "outputs": [],
   "source": [
    "HadoopOutPath1 = \"hdfs://master:9000/xgm/output/KaggleAmazon_BeginEnd04/part-00000\"\n",
    "\n",
    "OutDF1 = spark.read.options(header='false', inferschema='true',delimiter='\\t').csv(HadoopOutPath1).toDF(\"ASIN\",\"start_time\",\"end_time\").cache()"
   ]
  },
  {
   "cell_type": "code",
   "execution_count": 4,
   "metadata": {},
   "outputs": [],
   "source": [
    "join_DF1 = csvDF.join(OutDF1,csvDF.ASIN == OutDF1.ASIN).drop(OutDF1.ASIN)"
   ]
  },
  {
   "cell_type": "code",
   "execution_count": 5,
   "metadata": {},
   "outputs": [
    {
     "name": "stdout",
     "output_type": "stream",
     "text": [
      "+----------+-----+---------+--------------------+--------------------+--------------------+-------------------+-------------------+\n",
      "|      ASIN|GROUP|   FORMAT|               TITLE|              AUTHOR|           PUBLISHER|         start_time|           end_time|\n",
      "+----------+-----+---------+--------------------+--------------------+--------------------+-------------------+-------------------+\n",
      "|022640014X| book|hardcover|The Diversity Bar...|  Natasha K. Warikoo|University Of Chi...|2017-01-01_18:00:00|2018-06-30_10:00:00|\n",
      "|022640708X| book|hardcover|Seven Ways of Loo...|     Scott Samuelson|University Of Chi...|2017-11-11_05:00:00|2018-06-30_10:00:00|\n",
      "|022655645X| book|hardcover|The Human Body in...|Stefanos Geroulan...|University Of Chi...|2017-12-12_02:00:00|2018-06-30_00:00:00|\n",
      "|022643303X| book|hardcover|Canine Confidenti...|         Marc Bekoff|University Of Chi...|2017-11-11_05:00:00|2018-06-30_10:00:00|\n",
      "|022618871X| book|hardcover|Plankton: Wonders...|    Christian Sardet|University Of Chi...|2017-01-01_16:00:00|2018-06-30_10:00:00|\n",
      "|022631362X| book|hardcover|The Secret Lives ...|           Anonymous|University Of Chi...|2017-01-01_18:00:00|2018-06-30_05:00:00|\n",
      "|022640871X| book|hardcover|The Testing Chara...|       Daniel Koretz|University Of Chi...|2017-04-28_02:00:00|2018-06-30_08:00:00|\n",
      "|022642734X| book|hardcover|Noise: Living and...|          Alex Preda|University of Chi...|2018-03-16_22:00:00|2018-06-30_00:00:00|\n",
      "|022629112X| book|hardcover|Literature Incorp...|        John O'Brien|University Of Chi...|2017-01-01_16:00:00|2018-06-29_23:00:00|\n",
      "|022636223X| book|hardcover|The Book of Seeds...|          Paul Smith|University of Chi...|2018-03-16_22:00:00|2018-06-30_10:00:00|\n",
      "|031621082X| book|hardcover|12th of Never (Wo...|James Patterson, ...|Little, Brown and...|2017-01-01_18:00:00|2018-06-30_10:00:00|\n",
      "|006236359X| book|hardcover|Hidden Figures: T...|Margot Lee Shetterly|      William Morrow|2017-01-01_18:00:00|2018-06-30_10:00:00|\n",
      "|022653085X| book|hardcover|Measuring and Mod...|Ana Aizcorbe, Col...|University of Chi...|2018-03-16_22:00:00|2018-06-30_05:00:00|\n",
      "|022612682X| book|hardcover|Secret Body: Erot...|   Jeffrey J. Kripal|University Of Chi...|2017-11-15_02:00:00|2018-06-30_08:00:00|\n",
      "|019064270X| book|hardcover|General Principle...|Charles T. Kotuby...|Oxford University...|2017-03-16_05:00:00|2018-06-29_23:00:00|\n",
      "|0008259623| book|hardcover|The World's Worst...|      DAVID WALLIAMS|      HARPER COLLINS|2017-11-10_05:00:00|2018-06-30_10:00:00|\n",
      "|022607076X| book|hardcover|Dark Matter of th...|   Daniel L. Everett|University Of Chi...|2017-01-01_18:00:00|2018-06-30_08:00:00|\n",
      "|007177081X| book|hardcover|Social Media for ...|   Heather Mansfield|McGraw-Hill Educa...|2017-01-01_18:00:00|2018-06-30_10:00:00|\n",
      "|019065239X| book|hardcover|Good People, Bad ...|   Samuel A. Culbert|Oxford University...|2017-11-20_15:00:00|2018-06-30_10:00:00|\n",
      "|006209405X| book|hardcover|Amelia Bedelia's ...|Herman Parish, Ly...|   Greenwillow Books|2018-05-21_10:00:00|2018-06-30_10:00:00|\n",
      "+----------+-----+---------+--------------------+--------------------+--------------------+-------------------+-------------------+\n",
      "only showing top 20 rows\n",
      "\n"
     ]
    }
   ],
   "source": [
    "join_DF1.show()"
   ]
  },
  {
   "cell_type": "code",
   "execution_count": 6,
   "metadata": {},
   "outputs": [
    {
     "name": "stdout",
     "output_type": "stream",
     "text": [
      "+------+-----+\n",
      "| GROUP|count|\n",
      "+------+-----+\n",
      "|kindle|    3|\n",
      "|  book|  961|\n",
      "+------+-----+\n",
      "\n"
     ]
    }
   ],
   "source": [
    "join_DF1.groupBy(\"GROUP\").count().show()"
   ]
  },
  {
   "cell_type": "code",
   "execution_count": 7,
   "metadata": {},
   "outputs": [
    {
     "name": "stdout",
     "output_type": "stream",
     "text": [
      "+--------------------+-----+\n",
      "|              FORMAT|count|\n",
      "+--------------------+-----+\n",
      "|      kindle edition|    3|\n",
      "|           paperback|  581|\n",
      "|           hardcover|  368|\n",
      "|mass market paper...|   12|\n",
      "+--------------------+-----+\n",
      "\n"
     ]
    }
   ],
   "source": [
    "join_DF1.groupBy(\"FORMAT\").count().show()"
   ]
  },
  {
   "cell_type": "code",
   "execution_count": 8,
   "metadata": {},
   "outputs": [
    {
     "name": "stdout",
     "output_type": "stream",
     "text": [
      "+--------------------+-----+\n",
      "|           PUBLISHER|count|\n",
      "+--------------------+-----+\n",
      "|AVON, a division ...|    5|\n",
      "|     Crown Archetype|    1|\n",
      "|Interracial Multi...|    1|\n",
      "|       Harpercollins|    1|\n",
      "|Harcourt Brace Co...|    1|\n",
      "|HarperCollins Pub...|    5|\n",
      "|             Picador|    2|\n",
      "|    Penguin Classics|    2|\n",
      "|       Balzer + Bray|    4|\n",
      "|         Crown Forum|    1|\n",
      "|     Broadside Books|    1|\n",
      "|     William Collins|   13|\n",
      "|        Killer Reads|    2|\n",
      "| Glencoe/Mcgraw-Hill|    1|\n",
      "|       Fourth Estate|    4|\n",
      "|         Definitions|    1|\n",
      "|Leo Strauss, J. A...|    1|\n",
      "|Harpercollins Pub...|    1|\n",
      "|   Penguin Books Ltd|    1|\n",
      "|      Academic Press|    6|\n",
      "+--------------------+-----+\n",
      "only showing top 20 rows\n",
      "\n"
     ]
    }
   ],
   "source": [
    "join_DF1.groupBy(\"PUBLISHER\").count().show()"
   ]
  },
  {
   "cell_type": "code",
   "execution_count": 9,
   "metadata": {},
   "outputs": [
    {
     "name": "stdout",
     "output_type": "stream",
     "text": [
      "+----------+-----+---------+--------------------+--------------------+--------------------+-------------------+-------------------+\n",
      "|      ASIN|GROUP|   FORMAT|               TITLE|              AUTHOR|           PUBLISHER|         start_time|           end_time|\n",
      "+----------+-----+---------+--------------------+--------------------+--------------------+-------------------+-------------------+\n",
      "|0008156123| book|hardcover|Walking Through S...|      Graham Hoyland|     William Collins|2017-01-01_16:00:00|2018-06-30_05:00:00|\n",
      "|022624573X| book|hardcover|Pure Intelligence...|  Melvyn C. Usselman|University Of Chi...|2017-01-01_16:00:00|2018-06-29_23:00:00|\n",
      "|026201923X| book|hardcover|Your Everyday Art...|         Lane Relyea|       The MIT Press|2017-01-01_16:00:00|2018-06-29_23:00:00|\n",
      "|022618871X| book|hardcover|Plankton: Wonders...|    Christian Sardet|University Of Chi...|2017-01-01_16:00:00|2018-06-30_10:00:00|\n",
      "|022626355X| book|hardcover|Gustave Caillebot...|Mary Morton, Geor...|University Of Chi...|2017-01-01_16:00:00|2018-06-30_10:00:00|\n",
      "|006224812X| book|hardcover|Sex, Lies, and Co...|       Lisa Glasberg|      William Morrow|2017-01-01_16:00:00|2018-06-29_23:00:00|\n",
      "|002874067X| book|hardcover|  Manhood in America|      Michael Kimmel|          Free Press|2017-01-01_16:00:00|2018-06-30_05:00:00|\n",
      "|002652600X| book|hardcover|Glencoe Health - ...|  Mary Bronson Merki| Glencoe/Mcgraw-Hill|2017-01-01_16:00:00|2018-06-29_23:00:00|\n",
      "|022600905X| book|hardcover|Dangerous Work: D...|Arthur Conan Doyl...|University Of Chi...|2017-01-01_16:00:00|2018-06-30_08:00:00|\n",
      "|022629899X| book|hardcover|Plundered Skulls ...|        Chip Colwell|University Of Chi...|2017-01-01_16:00:00|2018-06-30_10:00:00|\n",
      "|022620247X| book|hardcover|A History of the ...|Tim Bryars, Tom H...|University Of Chi...|2017-01-01_16:00:00|2018-06-30_08:00:00|\n",
      "|022600029X| book|hardcover|Scientific Babel:...|   Michael D. Gordin|University Of Chi...|2017-01-01_16:00:00|2018-06-30_05:00:00|\n",
      "|022621009X| book|hardcover|Paying with Their...|      John M. Kinder|University Of Chi...|2017-01-01_16:00:00|2018-06-29_23:00:00|\n",
      "|022603853X| book|hardcover|Bas Jan Ader: Dea...|  Alexander Dumbadze|University Of Chi...|2017-01-01_16:00:00|2018-06-29_23:00:00|\n",
      "|019966109X| book|hardcover|The Last Alchemis...|       Lars Ohrstrom|Oxford University...|2017-01-01_16:00:00|2018-06-29_23:00:00|\n",
      "|022605005X| book|hardcover|Demolition Means ...| Andrew R. Highsmith|University Of Chi...|2017-01-01_16:00:00|2018-06-30_08:00:00|\n",
      "|031632793X| book|hardcover|I Am Malala: How ...|Malala Yousafzai,...|Little, Brown Boo...|2017-01-01_16:00:00|2018-06-30_08:00:00|\n",
      "|006245854X| book|hardcover|       Ronit & Jamil|    Pamela L. Laskin|Katherine Tegen B...|2017-01-01_16:00:00|2018-06-30_10:00:00|\n",
      "|022605926X| book|hardcover|\"Bigger, Brighter...|         Chris Jones|University Of Chi...|2017-01-01_16:00:00|2018-06-30_10:00:00|\n",
      "|022619518X| book|hardcover|Personalities on ...|     Barbara J. King|University Of Chi...|2017-01-01_16:00:00|2018-06-30_08:00:00|\n",
      "+----------+-----+---------+--------------------+--------------------+--------------------+-------------------+-------------------+\n",
      "only showing top 20 rows\n",
      "\n"
     ]
    }
   ],
   "source": [
    "join_DF1.orderBy(\"start_time\").show()"
   ]
  },
  {
   "cell_type": "code",
   "execution_count": 18,
   "metadata": {},
   "outputs": [
    {
     "name": "stdout",
     "output_type": "stream",
     "text": [
      "+----------+------+--------------+--------------------+--------------------+--------------------+-------------------+-------------------+\n",
      "|      ASIN| GROUP|        FORMAT|               TITLE|              AUTHOR|           PUBLISHER|         start_time|           end_time|\n",
      "+----------+------+--------------+--------------------+--------------------+--------------------+-------------------+-------------------+\n",
      "|030023872X|  book|     hardcover|The Mind Is Flat:...|         Nick Chater|Yale University P...|2018-05-31_14:00:00|2018-06-30_10:00:00|\n",
      "|031631613X|  book|     paperback|Less (Winner of t...|   Andrew Sean Greer|      Back Bay Books|2018-05-31_05:00:00|2018-06-30_07:00:00|\n",
      "|022656147X|  book|     paperback|The Forgotten Sen...|      Pablo Maurette|University of Chi...|2018-05-29_23:00:00|2018-06-30_05:00:00|\n",
      "|022656164X|  book|     hardcover|The Emotions of P...|     James M. Jasper|University of Chi...|2018-05-29_23:00:00|2018-06-30_05:00:00|\n",
      "|0008102171|  book|     hardcover|    Left of the Bang|       CLAIRE LOWDON|HarperCollins Pub...|2018-05-28_18:00:00|2018-06-30_00:00:00|\n",
      "|0008285160|kindle|kindle edition|   Our Little Secret|   Darren O'Sullivan|                  HQ|2018-05-25_16:00:00|2018-06-30_00:00:00|\n",
      "|0008238979|  book|     paperback|     An Orphan’s War|         Molly Green|                Avon|2018-05-25_15:00:00|2018-06-30_08:00:00|\n",
      "|031266219X|  book|     paperback|The Hundred Broth...|Donald Antrim, Jo...|             Picador|2018-05-22_03:00:00|2018-06-30_10:00:00|\n",
      "|022656245X|  book|     hardcover|   Shaping Phonology|Diane Brentari, J...|University of Chi...|2018-05-21_23:00:00|2018-06-30_00:00:00|\n",
      "|031618540X|  book|     paperback|The Outpost: An U...|         Jake Tapper|      Back Bay Books|2018-05-21_13:00:00|2018-06-30_10:00:00|\n",
      "|006209405X|  book|     hardcover|Amelia Bedelia's ...|Herman Parish, Ly...|   Greenwillow Books|2018-05-21_10:00:00|2018-06-30_10:00:00|\n",
      "|006268535X|  book|     paperback|Caroline: Little ...|        Sarah Miller|William Morrow Pa...|2018-05-20_19:00:00|2018-06-30_10:00:00|\n",
      "|0008257132|  book|     hardcover|Inner City Pressu...|          Dan Hancox|     William Collins|2018-05-20_01:00:00|2018-06-30_10:00:00|\n",
      "|0008239819|  book|     paperback|       The Poppy War|       Rebecca Kuang|       HarperCollins|2018-05-18_03:00:00|2018-06-30_05:00:00|\n",
      "|0008132011|  book|     hardcover|Cross Her Heart: ...|    Sarah Pinborough|HarperCollins Pub...|2018-05-17_21:00:00|2018-06-30_10:00:00|\n",
      "|006267871X|  book|     hardcover|The Gate Keeper: ...|        Charles Todd|      William Morrow|2018-05-17_20:00:00|2018-06-30_10:00:00|\n",
      "|014313230X|  book|     hardcover|Perfect Is Boring...|Tyra Banks, Carol...|      TarcherPerigee|2018-05-17_03:00:00|2018-06-30_10:00:00|\n",
      "|031034963X|  book|     hardcover|Madison Park: A P...|Eric L. Motley, W...|           Zondervan|2018-05-16_10:00:00|2018-06-30_10:00:00|\n",
      "|022649859X|  book|     paperback|Children with Ene...|     Stuart Dischell|University of Chi...|2018-05-15_05:00:00|2018-06-30_00:00:00|\n",
      "|022655984X|  book|     hardcover|Animal Intimacies...| Radhika Govindrajan|University of Chi...|2018-05-15_04:00:00|2018-06-30_00:00:00|\n",
      "+----------+------+--------------+--------------------+--------------------+--------------------+-------------------+-------------------+\n",
      "only showing top 20 rows\n",
      "\n"
     ]
    }
   ],
   "source": [
    "# 对start_time降序\n",
    "join_DF1.sort(\"start_time\",ascending=False).show()"
   ]
  },
  {
   "cell_type": "code",
   "execution_count": null,
   "metadata": {},
   "outputs": [],
   "source": []
  }
 ],
 "metadata": {
  "kernelspec": {
   "display_name": "Python 3",
   "language": "python",
   "name": "python3"
  },
  "language_info": {
   "codemirror_mode": {
    "name": "ipython",
    "version": 3
   },
   "file_extension": ".py",
   "mimetype": "text/x-python",
   "name": "python",
   "nbconvert_exporter": "python",
   "pygments_lexer": "ipython3",
   "version": "3.7.1"
  }
 },
 "nbformat": 4,
 "nbformat_minor": 2
}
